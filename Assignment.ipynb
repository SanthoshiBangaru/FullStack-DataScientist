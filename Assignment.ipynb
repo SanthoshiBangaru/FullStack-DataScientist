{
 "cells": [
  {
   "cell_type": "code",
   "execution_count": 1,
   "metadata": {},
   "outputs": [
    {
     "name": "stdout",
     "output_type": "stream",
     "text": [
      "[0, 1, 1, 2, 3, 5, 8]\n"
     ]
    }
   ],
   "source": [
    "#Python Functions\n",
    "#1. Fibonacci Generator\n",
    "def fibonacci(n):\n",
    "    seq = [0, 1]\n",
    "    while len(seq) < n:\n",
    "        seq.append(seq[-1] + seq[-2])\n",
    "    return seq[:n]\n",
    "\n",
    "print(fibonacci(7))"
   ]
  },
  {
   "cell_type": "code",
   "execution_count": 2,
   "metadata": {},
   "outputs": [
    {
     "name": "stdout",
     "output_type": "stream",
     "text": [
      "120\n"
     ]
    }
   ],
   "source": [
    "# 2. Factorial Using Recursion\n",
    "def factorial(n):\n",
    "    return 1 if n == 0 else n * factorial(n-1)\n",
    "\n",
    "print(factorial(5))"
   ]
  },
  {
   "cell_type": "code",
   "execution_count": 3,
   "metadata": {},
   "outputs": [
    {
     "name": "stdout",
     "output_type": "stream",
     "text": [
      "{'apple': 2, 'banana': 2, 'orange': 1}\n"
     ]
    }
   ],
   "source": [
    "# 3. Unique Words Counter\n",
    "def unique_words(sentence):\n",
    "    words = sentence.split()\n",
    "    count = {}\n",
    "    for w in words:\n",
    "        count[w] = count.get(w, 0) + 1\n",
    "    return count\n",
    "\n",
    "print(unique_words(\"apple banana apple orange banana\"))\n"
   ]
  },
  {
   "cell_type": "code",
   "execution_count": 4,
   "metadata": {},
   "outputs": [
    {
     "name": "stdout",
     "output_type": "stream",
     "text": [
      "Grade: A\n"
     ]
    }
   ],
   "source": [
    "# 4. Grade Calculator\n",
    "def grade_calculator(marks):\n",
    "    avg = sum(marks) / len(marks)\n",
    "    if avg >= 90: grade = \"A+\"\n",
    "    elif avg >= 80: grade = \"A\"\n",
    "    elif avg >= 70: grade = \"B\"\n",
    "    elif avg >= 60: grade = \"C\"\n",
    "    else: grade = \"F\"\n",
    "    return f\"Grade: {grade}\"\n",
    "\n",
    "print(grade_calculator([85, 90, 78]))"
   ]
  },
  {
   "cell_type": "code",
   "execution_count": 5,
   "metadata": {},
   "outputs": [
    {
     "name": "stdout",
     "output_type": "stream",
     "text": [
      "10\n"
     ]
    }
   ],
   "source": [
    "# 5. Second Largest Number\n",
    "def second_largest(nums):\n",
    "    unique_nums = list(set(nums))\n",
    "    unique_nums.sort(reverse=True)\n",
    "    return unique_nums[1] if len(unique_nums) > 1 else None\n",
    "\n",
    "print(second_largest([10, 5, 20, 8]))"
   ]
  },
  {
   "cell_type": "code",
   "execution_count": 6,
   "metadata": {},
   "outputs": [
    {
     "name": "stdout",
     "output_type": "stream",
     "text": [
      "Text files: 2\n",
      "Python files: 2\n"
     ]
    }
   ],
   "source": [
    "#Python Modules \n",
    "# 1. Count Files by Extension\n",
    "import os\n",
    "def count_files():\n",
    "    files = [\"notes.txt\", \"app.py\", \"data.csv\", \"report.txt\", \"main.py\"]\n",
    "    txt_files = sum(1 for f in files if f.endswith(\".txt\"))\n",
    "    py_files = sum(1 for f in files if f.endswith(\".py\"))\n",
    "    print(\"Text files:\", txt_files)\n",
    "    print(\"Python files:\", py_files)\n",
    "\n",
    "count_files()"
   ]
  },
  {
   "cell_type": "code",
   "execution_count": 7,
   "metadata": {},
   "outputs": [
    {
     "name": "stdout",
     "output_type": "stream",
     "text": [
      "Mean = 87.86\n",
      "Median = 90\n",
      "Variance = 73.81\n"
     ]
    }
   ],
   "source": [
    "# 2. Exam Score Analysis\n",
    "import statistics\n",
    "\n",
    "scores = [75, 80, 90, 100, 85, 90, 95]\n",
    "\n",
    "print(\"Mean =\", round(statistics.mean(scores), 2))\n",
    "print(\"Median =\", statistics.median(scores))\n",
    "print(\"Variance =\", round(statistics.variance(scores), 2))"
   ]
  },
  {
   "cell_type": "code",
   "execution_count": 8,
   "metadata": {},
   "outputs": [
    {
     "name": "stdout",
     "output_type": "stream",
     "text": [
      "Roots are: 2.0 and 1.0\n"
     ]
    }
   ],
   "source": [
    "# 3. Quadratic Equation Solver\n",
    "import math\n",
    "\n",
    "def solve_quadratic(a, b, c):\n",
    "    d = b**2 - 4*a*c\n",
    "    if d < 0:\n",
    "        return \"No real roots\"\n",
    "    r1 = (-b + math.sqrt(d)) / (2*a)\n",
    "    r2 = (-b - math.sqrt(d)) / (2*a)\n",
    "    return f\"Roots are: {r1} and {r2}\"\n",
    "\n",
    "print(solve_quadratic(1, -3, 2))"
   ]
  },
  {
   "cell_type": "code",
   "execution_count": 12,
   "metadata": {},
   "outputs": [
    {
     "name": "stdout",
     "output_type": "stream",
     "text": [
      "You chose Rock, Computer chose Scissors\n",
      "You Win!\n"
     ]
    }
   ],
   "source": [
    "# 4. Rock Paper Scissors Game\n",
    "import random\n",
    "\n",
    "def rps(user_choice):\n",
    "    options = [\"Rock\", \"Paper\", \"Scissors\"]\n",
    "    comp = random.choice(options)\n",
    "    print(f\"You chose {user_choice}, Computer chose {comp}\")\n",
    "    if user_choice == comp:\n",
    "        return \"Draw!\"\n",
    "    elif (user_choice == \"Rock\" and comp == \"Scissors\") or \\\n",
    "         (user_choice == \"Paper\" and comp == \"Rock\") or \\\n",
    "         (user_choice == \"Scissors\" and comp == \"Paper\"):\n",
    "        return \"You Win!\"\n",
    "    else:\n",
    "        return \"You Lose!\"\n",
    "\n",
    "print(rps(\"Rock\"))"
   ]
  },
  {
   "cell_type": "code",
   "execution_count": 15,
   "metadata": {},
   "outputs": [
    {
     "name": "stdout",
     "output_type": "stream",
     "text": [
      "Sum = 30\n"
     ]
    }
   ],
   "source": [
    "# 5. Sum from Command Line\n",
    "import sys\n",
    "sys.argv = [\"add.py\", \"5\", \"10\", \"15\"] \n",
    "\n",
    "nums = list(map(int, sys.argv[1:]))\n",
    "print(\"Sum =\", sum(nums))"
   ]
  },
  {
   "cell_type": "code",
   "execution_count": 16,
   "metadata": {},
   "outputs": [
    {
     "name": "stdout",
     "output_type": "stream",
     "text": [
      "You borrowed Python 101\n",
      "You returned Python 101\n",
      "Available books: {'Python 101': 3, 'Data Science': 2}\n"
     ]
    }
   ],
   "source": [
    "#OOPs Concepts\n",
    "# 1. Library System\n",
    "class Library:\n",
    "    def __init__(self, books):\n",
    "        self.books = books\n",
    "    \n",
    "    def borrow(self, title):\n",
    "        if self.books.get(title, 0) > 0:\n",
    "            self.books[title] -= 1\n",
    "            return f\"You borrowed {title}\"\n",
    "        return \"Not available\"\n",
    "    \n",
    "    def return_book(self, title):\n",
    "        if title in self.books:\n",
    "            self.books[title] += 1\n",
    "        else:\n",
    "            self.books[title] = 1\n",
    "        return f\"You returned {title}\"\n",
    "    \n",
    "    def show_books(self):\n",
    "        print(\"Available books:\", self.books)\n",
    "\n",
    "\n",
    "lib = Library({\"Python 101\": 3, \"Data Science\": 2})\n",
    "print(lib.borrow(\"Python 101\"))\n",
    "print(lib.return_book(\"Python 101\"))\n",
    "lib.show_books()\n"
   ]
  },
  {
   "cell_type": "code",
   "execution_count": 18,
   "metadata": {},
   "outputs": [
    {
     "name": "stdout",
     "output_type": "stream",
     "text": [
      "Access Granted\n",
      "Deposited 2200\n",
      "Withdrew 100\n",
      "Balance: 2600\n"
     ]
    }
   ],
   "source": [
    "# 2. ATM Machine with PIN\n",
    "class ATM:\n",
    "    def __init__(self, pin, balance=0):\n",
    "        self.pin = pin\n",
    "        self.balance = balance\n",
    "        self.is_authenticated = False\n",
    "    \n",
    "    def login(self, pin):\n",
    "        if pin == self.pin:\n",
    "            self.is_authenticated = True\n",
    "            return \"Access Granted\"\n",
    "        return \"Wrong PIN\"\n",
    "    \n",
    "    def check_balance(self):\n",
    "        if self.is_authenticated:\n",
    "            return f\"Balance: {self.balance}\"\n",
    "        return \"Login first!\"\n",
    "    \n",
    "    def deposit(self, amount):\n",
    "        if self.is_authenticated:\n",
    "            self.balance += amount\n",
    "            return f\"Deposited {amount}\"\n",
    "        return \"Login first!\"\n",
    "    \n",
    "    def withdraw(self, amount):\n",
    "        if self.is_authenticated:\n",
    "            if self.balance >= amount:\n",
    "                self.balance -= amount\n",
    "                return f\"Withdrew {amount}\"\n",
    "            return \"Insufficient balance\"\n",
    "        return \"Login first!\"\n",
    "\n",
    "\n",
    "atm = ATM(1234, 500)\n",
    "print(atm.login(1234))\n",
    "print(atm.deposit(2200))\n",
    "print(atm.withdraw(100))\n",
    "print(atm.check_balance())\n"
   ]
  },
  {
   "cell_type": "code",
   "execution_count": 20,
   "metadata": {},
   "outputs": [
    {
     "name": "stdout",
     "output_type": "stream",
     "text": [
      "Dr. Smith is teaching Python\n",
      "Alice enrolled in Python\n",
      "Dr. Smith assigned: Project 1\n",
      "Alice submitted: Project 1\n"
     ]
    }
   ],
   "source": [
    "# 3. University System\n",
    "class Professor:\n",
    "    def __init__(self, name, subject):\n",
    "        self.name = name\n",
    "        self.subject = subject\n",
    "    \n",
    "    def teach(self, course):\n",
    "        return f\"{self.name} is teaching {course}\"\n",
    "    \n",
    "    def give_assignment(self, task):\n",
    "        return f\"{self.name} assigned: {task}\"\n",
    "\n",
    "\n",
    "class Student:\n",
    "    def __init__(self, name):\n",
    "        self.name = name\n",
    "        self.courses = []\n",
    "        self.assignments = []\n",
    "    \n",
    "    def enroll(self, course):\n",
    "        self.courses.append(course)\n",
    "        return f\"{self.name} enrolled in {course}\"\n",
    "    \n",
    "    def submit_assignment(self, task):\n",
    "        self.assignments.append(task)\n",
    "        return f\"{self.name} submitted: {task}\"\n",
    "\n",
    "\n",
    "prof = Professor(\"Dr. Smith\", \"Computer Science\")\n",
    "stud = Student(\"Alice\")\n",
    "print(prof.teach(\"Python\"))\n",
    "print(stud.enroll(\"Python\"))\n",
    "print(prof.give_assignment(\"Project 1\"))\n",
    "print(stud.submit_assignment(\"Project 1\"))"
   ]
  },
  {
   "cell_type": "code",
   "execution_count": 21,
   "metadata": {},
   "outputs": [
    {
     "name": "stdout",
     "output_type": "stream",
     "text": [
      "Booked 2 tickets for Mirai\n",
      "Cancelled 1 ticket for Lokah\n",
      "Movies: {'Mirai': 8, 'Lokah': 6}\n"
     ]
    }
   ],
   "source": [
    "# 4. Movie Ticket Booking\n",
    "class Cinema:\n",
    "    def __init__(self, movies):\n",
    "        self.movies = movies\n",
    "    \n",
    "    def book(self, movie, seats):\n",
    "        if self.movies.get(movie, 0) >= seats:\n",
    "            self.movies[movie] -= seats\n",
    "            return f\"Booked {seats} tickets for {movie}\"\n",
    "        return \"Not enough seats\"\n",
    "    \n",
    "    def cancel(self, movie, seats):\n",
    "        if movie in self.movies:\n",
    "            self.movies[movie] += seats\n",
    "            return f\"Cancelled {seats} ticket for {movie}\"\n",
    "        return \"Movie not found\"\n",
    "    \n",
    "    def show_movies(self):\n",
    "        print(\"Movies:\", self.movies)\n",
    "\n",
    "\n",
    "cinema = Cinema({\"Mirai\": 10, \"Lokah\": 5})\n",
    "print(cinema.book(\"Mirai\", 2))\n",
    "print(cinema.cancel(\"Lokah\", 1))\n",
    "cinema.show_movies()"
   ]
  },
  {
   "cell_type": "code",
   "execution_count": 22,
   "metadata": {},
   "outputs": [
    {
     "name": "stdout",
     "output_type": "stream",
     "text": [
      "Burger added\n",
      "Pizza added\n",
      "Pizza price updated to 250\n",
      "Burger removed\n",
      "Menu: {'Pizza': 250}\n"
     ]
    }
   ],
   "source": [
    "# 5. Restaurant Menu\n",
    "class Menu:\n",
    "    def __init__(self):\n",
    "        self.items = {}\n",
    "    \n",
    "    def add_item(self, name, price):\n",
    "        self.items[name] = price\n",
    "        return f\"{name} added\"\n",
    "    \n",
    "    def remove_item(self, name):\n",
    "        if name in self.items:\n",
    "            del self.items[name]\n",
    "            return f\"{name} removed\"\n",
    "        return \"Item not found\"\n",
    "    \n",
    "    def update_price(self, name, new_price):\n",
    "        if name in self.items:\n",
    "            self.items[name] = new_price\n",
    "            return f\"{name} price updated to {new_price}\"\n",
    "        return \"Item not found\"\n",
    "    \n",
    "    def show_menu(self):\n",
    "        print(\"Menu:\", self.items)\n",
    "\n",
    "\n",
    "menu = Menu()\n",
    "print(menu.add_item(\"Burger\", 100))\n",
    "print(menu.add_item(\"Pizza\", 200))\n",
    "print(menu.update_price(\"Pizza\", 250))\n",
    "print(menu.remove_item(\"Burger\"))\n",
    "menu.show_menu()"
   ]
  }
 ],
 "metadata": {
  "kernelspec": {
   "display_name": "Python 3",
   "language": "python",
   "name": "python3"
  },
  "language_info": {
   "codemirror_mode": {
    "name": "ipython",
    "version": 3
   },
   "file_extension": ".py",
   "mimetype": "text/x-python",
   "name": "python",
   "nbconvert_exporter": "python",
   "pygments_lexer": "ipython3",
   "version": "3.11.13"
  }
 },
 "nbformat": 4,
 "nbformat_minor": 2
}
