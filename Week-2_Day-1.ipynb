{
 "cells": [
  {
   "cell_type": "code",
   "execution_count": 1,
   "metadata": {},
   "outputs": [
    {
     "name": "stdout",
     "output_type": "stream",
     "text": [
      "[2, 3, 5, 7, 11, 13, 17, 19]\n"
     ]
    }
   ],
   "source": [
    "#PYTHON FUNCTIONS\n",
    "#1. Prime number finder\n",
    "def primes_upto(n):\n",
    "    primes = []\n",
    "    for num in range(2, n+1):\n",
    "        for i in range(2, int(num**0.5)+1):\n",
    "            if num % i == 0:\n",
    "                break\n",
    "        else:\n",
    "            primes.append(num)\n",
    "    return primes\n",
    "\n",
    "print(primes_upto(20))"
   ]
  },
  {
   "cell_type": "code",
   "execution_count": 1,
   "metadata": {},
   "outputs": [
    {
     "name": "stdout",
     "output_type": "stream",
     "text": [
      "True\n"
     ]
    }
   ],
   "source": [
    "#2. Palindrome Checker\n",
    "def is_palindrome(s):\n",
    "    s_clean = ''.join(c.lower() for c in s if c.isalnum())\n",
    "    return s_clean == s_clean[::-1]\n",
    "\n",
    "print(is_palindrome(\"Never odd or even\"))"
   ]
  },
  {
   "cell_type": "code",
   "execution_count": 19,
   "metadata": {},
   "outputs": [
    {
     "name": "stdout",
     "output_type": "stream",
     "text": [
      "True\n"
     ]
    }
   ],
   "source": [
    "#3. Anagram Checker\n",
    "def are_anagrams(s1, s2):\n",
    "    return sorted(s1.lower()) == sorted(s2.lower())\n",
    "\n",
    "print(are_anagrams(\"listen\", \"silent\")) "
   ]
  },
  {
   "cell_type": "code",
   "execution_count": 3,
   "metadata": {},
   "outputs": [
    {
     "name": "stdout",
     "output_type": "stream",
     "text": [
      "Vowels=2, Consonants=3\n"
     ]
    }
   ],
   "source": [
    "#4. Count vowels and consonents\n",
    "def count_vowels_consonants(s):\n",
    "    vowels = 'aeiouAEIOU'\n",
    "    v = c = 0\n",
    "    for ch in s:\n",
    "        if ch.isalpha():\n",
    "            if ch in vowels:\n",
    "                v += 1\n",
    "            else:\n",
    "                c += 1\n",
    "    return v, c\n",
    "\n",
    "v, c = count_vowels_consonants(\"hello\")\n",
    "print(f\"Vowels={v}, Consonants={c}\")"
   ]
  },
  {
   "cell_type": "code",
   "execution_count": 4,
   "metadata": {},
   "outputs": [
    {
     "name": "stdout",
     "output_type": "stream",
     "text": [
      "amazing\n"
     ]
    }
   ],
   "source": [
    "#5. Longest Word finder\n",
    "def longest_word(sentence):\n",
    "    return max(sentence.split(), key=len)\n",
    "\n",
    "print(longest_word(\"Python is amazing\"))  "
   ]
  },
  {
   "cell_type": "code",
   "execution_count": 21,
   "metadata": {},
   "outputs": [
    {
     "name": "stdout",
     "output_type": "stream",
     "text": [
      "4ms?^o\n"
     ]
    }
   ],
   "source": [
    "#PYTHON MODULES\n",
    "#1. Random password generator\n",
    "import random, string\n",
    "\n",
    "def gen_pwd(n):\n",
    "    chars = string.ascii_letters + string.digits + string.punctuation\n",
    "    return ''.join(random.choice(chars) for _ in range(n))\n",
    "\n",
    "print(gen_pwd(6))"
   ]
  },
  {
   "cell_type": "code",
   "execution_count": 25,
   "metadata": {},
   "outputs": [
    {
     "name": "stdout",
     "output_type": "stream",
     "text": [
      "Square root: 5.0\n"
     ]
    }
   ],
   "source": [
    "#2. Simple calculator with math\n",
    "import math\n",
    "\n",
    "n = int(input(\"Enter a number: \"))\n",
    "ch = input(\"Enter operation (sqrt, factorial, sin, cos): \")\n",
    "\n",
    "match ch:\n",
    "    case \"sqrt\":\n",
    "        print(\"Square root:\", math.sqrt(n))\n",
    "    case \"factorial\":\n",
    "        print(\"Factorial:\", math.factorial(n))\n",
    "    case \"sin\":\n",
    "        print(\"Sine:\", math.sin(n))\n",
    "    case \"cos\":\n",
    "        print(\"Cosine:\", math.cos(n))\n",
    "    case _:\n",
    "        print(\"Invalid choice\")\n"
   ]
  },
  {
   "cell_type": "code",
   "execution_count": 8,
   "metadata": {},
   "outputs": [
    {
     "name": "stdout",
     "output_type": "stream",
     "text": [
      "Counter({'cat': 2, 'dog': 1})\n"
     ]
    }
   ],
   "source": [
    "#3. Word frequesncy counter \n",
    "from collections import Counter\n",
    "\n",
    "def word_freq(text):\n",
    "    words = text.split()\n",
    "    return Counter(words)\n",
    "\n",
    "print(word_freq(\"cat dog cat\"))"
   ]
  },
  {
   "cell_type": "code",
   "execution_count": 29,
   "metadata": {},
   "outputs": [
    {
     "name": "stdout",
     "output_type": "stream",
     "text": [
      "Weather: Cloudy, Temp: 31°C\n"
     ]
    }
   ],
   "source": [
    "#4. Weather Simulator\n",
    "def weather_simulator():\n",
    "    weather = random.choice([\"Sunny\", \"Rainy\", \"Cloudy\", \"Windy\"])\n",
    "    temp = random.randint(20, 40)\n",
    "    return f\"Weather: {weather}, Temp: {temp}°C\"\n",
    "\n",
    "print(weather_simulator())"
   ]
  },
  {
   "cell_type": "code",
   "execution_count": 11,
   "metadata": {},
   "outputs": [
    {
     "name": "stdout",
     "output_type": "stream",
     "text": [
      "5\n",
      "4\n",
      "3\n",
      "2\n",
      "1\n",
      "Time's up!\n"
     ]
    }
   ],
   "source": [
    "#5. Timer Program\n",
    "import time\n",
    "\n",
    "def countdown(n):\n",
    "    for i in range(n, 0, -1):\n",
    "        print(i)\n",
    "        time.sleep(1)\n",
    "    print(\"Time's up!\")\n",
    "\n",
    "countdown(5)"
   ]
  },
  {
   "cell_type": "code",
   "execution_count": 34,
   "metadata": {},
   "outputs": [
    {
     "name": "stdout",
     "output_type": "stream",
     "text": [
      "Balance: 468100\n"
     ]
    }
   ],
   "source": [
    "#OOPS CONCEPTS\n",
    "#1. Bank account class\n",
    "class BankAccount:\n",
    "    def __init__(self, balance=0, owner=None):\n",
    "        self.balance = balance\n",
    "        self.owner = owner\n",
    "    \n",
    "    def deposit(self, amount):\n",
    "        self.balance += amount\n",
    "    \n",
    "    def withdraw(self, amount):\n",
    "        if amount <= self.balance:\n",
    "            self.balance -= amount\n",
    "        else:\n",
    "            print(\"Insufficient funds\")\n",
    "    \n",
    "    def get_balance(self):\n",
    "        return self.balance\n",
    "\n",
    "acc = BankAccount(100)\n",
    "acc.deposit(500000)\n",
    "acc.withdraw(32000)\n",
    "print(f\"Balance: {acc.get_balance()}\")"
   ]
  },
  {
   "cell_type": "code",
   "execution_count": 35,
   "metadata": {},
   "outputs": [
    {
     "name": "stdout",
     "output_type": "stream",
     "text": [
      "85.0\n",
      "95\n",
      "80\n"
     ]
    }
   ],
   "source": [
    "#2. Student class with average\n",
    "class Student:\n",
    "    def __init__(self, name, marks=[]):\n",
    "        self.name = name\n",
    "        self.marks = marks\n",
    "    \n",
    "    def get_average(self):\n",
    "        return sum(self.marks)/len(self.marks) if self.marks else 0\n",
    "    \n",
    "    def add_mark(self, mark):\n",
    "        self.marks.append(mark)\n",
    "    \n",
    "    def get_highest(self):\n",
    "        return max(self.marks) if self.marks else None\n",
    "    \n",
    "    def get_lowest(self):\n",
    "        return min(self.marks) if self.marks else None\n",
    "\n",
    "s = Student(\"Mark\", [90,80,85])\n",
    "print(s.get_average())\n",
    "s.add_mark(95)\n",
    "print(s.get_highest()) \n",
    "print(s.get_lowest()) "
   ]
  },
  {
   "cell_type": "code",
   "execution_count": null,
   "metadata": {},
   "outputs": [],
   "source": []
  },
  {
   "cell_type": "code",
   "execution_count": 37,
   "metadata": {},
   "outputs": [
    {
     "name": "stdout",
     "output_type": "stream",
     "text": [
      "110000.0\n"
     ]
    }
   ],
   "source": [
    "#3. Employee bonus system\n",
    "class Employee:\n",
    "    def __init__(self, name, salary, role):\n",
    "        self.name = name\n",
    "        self.salary = salary\n",
    "        self.role = role\n",
    "    \n",
    "    def bonus(self):\n",
    "        rates = {\"Manager\": 0.2, \"Developer\": 0.1, \"Intern\": 0.05}\n",
    "        return self.salary * rates.get(self.role, 0)\n",
    "\n",
    "m = Employee(\"Alice\", 550000, \"Manager\")\n",
    "print(m.bonus()) "
   ]
  },
  {
   "cell_type": "code",
   "execution_count": 17,
   "metadata": {},
   "outputs": [
    {
     "name": "stdout",
     "output_type": "stream",
     "text": [
      "153.94\n",
      "20\n"
     ]
    }
   ],
   "source": [
    "#4. Shape Area calculator\n",
    "import math\n",
    "\n",
    "class Shape:\n",
    "    def __init__(self, name):\n",
    "        self.name = name\n",
    "    def area(self):\n",
    "        raise NotImplementedError\n",
    "\n",
    "class Circle(Shape):\n",
    "    def __init__(self, radius):\n",
    "        super().__init__(\"Circle\")\n",
    "        self.radius = radius\n",
    "    def area(self):\n",
    "        return round(math.pi * self.radius**2, 2)\n",
    "\n",
    "class Rectangle(Shape):\n",
    "    def __init__(self, width, height):\n",
    "        super().__init__(\"Rectangle\")\n",
    "        self.width = width\n",
    "        self.height = height\n",
    "    def area(self):\n",
    "        return self.width * self.height\n",
    "\n",
    "c = Circle(7)\n",
    "r = Rectangle(4,5)\n",
    "print(c.area())\n",
    "print(r.area()) "
   ]
  },
  {
   "cell_type": "code",
   "execution_count": 18,
   "metadata": {},
   "outputs": [
    {
     "name": "stdout",
     "output_type": "stream",
     "text": [
      "Total = 2000\n"
     ]
    }
   ],
   "source": [
    "#5. E-Commerce order class\n",
    "class Order:\n",
    "    def __init__(self):\n",
    "        self.items = {}\n",
    "    \n",
    "    def add(self, item, price):\n",
    "        self.items[item] = price\n",
    "    \n",
    "    def remove(self, item):\n",
    "        if item in self.items:\n",
    "            del self.items[item]\n",
    "    \n",
    "    def calculate_total(self):\n",
    "        return sum(self.items.values())\n",
    "    \n",
    "    def show_items(self):\n",
    "        return self.items\n",
    "\n",
    "order = Order()\n",
    "order.add(\"Shirt\", 500)\n",
    "order.add(\"Shoes\", 1500)\n",
    "print(f\"Total = {order.calculate_total()}\") "
   ]
  }
 ],
 "metadata": {
  "kernelspec": {
   "display_name": "Python 3",
   "language": "python",
   "name": "python3"
  },
  "language_info": {
   "codemirror_mode": {
    "name": "ipython",
    "version": 3
   },
   "file_extension": ".py",
   "mimetype": "text/x-python",
   "name": "python",
   "nbconvert_exporter": "python",
   "pygments_lexer": "ipython3",
   "version": "3.11.13"
  }
 },
 "nbformat": 4,
 "nbformat_minor": 2
}
