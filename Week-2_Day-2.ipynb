{
 "cells": [
  {
   "cell_type": "code",
   "execution_count": 2,
   "metadata": {},
   "outputs": [
    {
     "name": "stdout",
     "output_type": "stream",
     "text": [
      "Total words: 3\n"
     ]
    }
   ],
   "source": [
    "# 1. Count total words in a text file\n",
    "with open(\"sample.txt\", \"r\") as f:\n",
    "    text = f.read()\n",
    "words = text.split()\n",
    "print(\"Total words:\", len(words))"
   ]
  },
  {
   "cell_type": "code",
   "execution_count": 3,
   "metadata": {},
   "outputs": [
    {
     "name": "stdout",
     "output_type": "stream",
     "text": [
      "True\n"
     ]
    }
   ],
   "source": [
    "# 2. Strong password checker\n",
    "import re\n",
    "\n",
    "def is_strong(password):\n",
    "    if (len(password) >= 8 and\n",
    "        re.search(r\"[A-Z]\", password) and\n",
    "        re.search(r\"[a-z]\", password) and\n",
    "        re.search(r\"\\d\", password) and\n",
    "        re.search(r\"[@$!%*?&]\", password)):\n",
    "        return True\n",
    "    return False\n",
    "\n",
    "print(is_strong(\"Strong@123\"))"
   ]
  },
  {
   "cell_type": "code",
   "execution_count": 4,
   "metadata": {},
   "outputs": [
    {
     "name": "stdout",
     "output_type": "stream",
     "text": [
      "80.0\n"
     ]
    }
   ],
   "source": [
    "# 3. Simple Calculator\n",
    "a = float(input(\"Enter first number: \"))\n",
    "b = float(input(\"Enter second number: \"))\n",
    "op = input(\"Enter operation (+,-,*,/): \")\n",
    "\n",
    "if op == '+':\n",
    "    print(a+b)\n",
    "elif op == '-':\n",
    "    print(a-b)\n",
    "elif op == '*':\n",
    "    print(a*b)\n",
    "elif op == '/':\n",
    "    print(a/b if b!=0 else \"Division by zero not allowed\")\n",
    "else:\n",
    "    print(\"Invalid operator\")"
   ]
  },
  {
   "cell_type": "code",
   "execution_count": 5,
   "metadata": {},
   "outputs": [
    {
     "name": "stdout",
     "output_type": "stream",
     "text": [
      "Duplicates: ['Anu', 'Raj']\n"
     ]
    }
   ],
   "source": [
    "# 4. Find duplicate student names\n",
    "students = [\"Raj\", \"Anu\", \"Raj\", \"Sam\", \"Anu\"]\n",
    "duplicates = [name for name in set(students) if students.count(name) > 1]\n",
    "print(\"Duplicates:\", duplicates)"
   ]
  },
  {
   "cell_type": "code",
   "execution_count": 6,
   "metadata": {},
   "outputs": [
    {
     "name": "stdout",
     "output_type": "stream",
     "text": [
      "Fahrenheit: 98.6\n",
      "Celsius: 32.22222222222222\n"
     ]
    }
   ],
   "source": [
    "# 5. Celsius to Fahrenheit\n",
    "c = float(input(\"Enter Celsius: \"))\n",
    "f = (c * 9/5) + 32\n",
    "print(\"Fahrenheit:\", f)\n",
    "\n",
    "f = float(input(\"Enter Fahrenheit: \"))\n",
    "c = (f - 32) * 5/9\n",
    "print(\"Celsius:\", c)"
   ]
  },
  {
   "cell_type": "code",
   "execution_count": 7,
   "metadata": {},
   "outputs": [
    {
     "name": "stdout",
     "output_type": "stream",
     "text": [
      "Largest: 99\n"
     ]
    }
   ],
   "source": [
    "# 6. Largest number in list\n",
    "nums = [10, 25, 3, 99, 56]\n",
    "print(\"Largest:\", max(nums))"
   ]
  },
  {
   "cell_type": "code",
   "execution_count": 8,
   "metadata": {},
   "outputs": [
    {
     "name": "stdout",
     "output_type": "stream",
     "text": [
      "Simple Interest: 750.0\n"
     ]
    }
   ],
   "source": [
    "# 7. Simple Interest\n",
    "p = float(input(\"Principal: \"))\n",
    "r = float(input(\"Rate: \"))\n",
    "t = float(input(\"Time: \"))\n",
    "si = (p * r * t) / 100\n",
    "print(\"Simple Interest:\", si)"
   ]
  },
  {
   "cell_type": "code",
   "execution_count": 9,
   "metadata": {},
   "outputs": [
    {
     "name": "stdout",
     "output_type": "stream",
     "text": [
      "Defaulters: ['Anu', 'Sam']\n"
     ]
    }
   ],
   "source": [
    "# 8. Find defaulters (<75%)\n",
    "attendance = {\"Raj\": 80, \"Anu\": 60, \"Sam\": 74}\n",
    "defaulters = [name for name, per in attendance.items() if per < 75]\n",
    "print(\"Defaulters:\", defaulters)"
   ]
  },
  {
   "cell_type": "code",
   "execution_count": 41,
   "metadata": {},
   "outputs": [
    {
     "name": "stdout",
     "output_type": "stream",
     "text": [
      "6\n"
     ]
    }
   ],
   "source": [
    "# 9. Sum of digits \n",
    "n = int(input())\n",
    "s = sum(int(d) for d in str(n))\n",
    "print(s)"
   ]
  },
  {
   "cell_type": "code",
   "execution_count": 36,
   "metadata": {},
   "outputs": [
    {
     "name": "stdout",
     "output_type": "stream",
     "text": [
      "True\n"
     ]
    }
   ],
   "source": [
    "# 10. Prime check\n",
    "def is_prime(n):\n",
    "    if n < 2:\n",
    "        return False\n",
    "    for i in range(2, int(n**0.5)+1):\n",
    "        if n % i == 0:\n",
    "            return False\n",
    "    return True\n",
    "\n",
    "print(is_prime(29))"
   ]
  },
  {
   "cell_type": "code",
   "execution_count": 17,
   "metadata": {},
   "outputs": [
    {
     "name": "stdout",
     "output_type": "stream",
     "text": [
      "Smallest: 12\n",
      "Largest: 43\n"
     ]
    }
   ],
   "source": [
    "# 11. Smallest & Largest in list\n",
    "nums = list(map(int, input(\"Enter numbers separated by space: \").split()))\n",
    "print(\"Smallest:\", min(nums))\n",
    "print(\"Largest:\", max(nums))"
   ]
  },
  {
   "cell_type": "code",
   "execution_count": 13,
   "metadata": {},
   "outputs": [
    {
     "name": "stdout",
     "output_type": "stream",
     "text": [
      "Total Bill: 140\n"
     ]
    }
   ],
   "source": [
    "# 12. Total bill from dictionary\n",
    "items = {\"apple\": 50, \"banana\": 30, \"milk\": 60}\n",
    "print(\"Total Bill:\", sum(items.values()))"
   ]
  },
  {
   "cell_type": "code",
   "execution_count": 39,
   "metadata": {},
   "outputs": [
    {
     "name": "stdout",
     "output_type": "stream",
     "text": [
      "Largest: 52\n"
     ]
    }
   ],
   "source": [
    "# 13. Largest of 3 numbers\n",
    "a, b, c = (int(input(\"Enter number: \")) for _ in range(3))\n",
    "print(\"Largest:\", max(a, b, c))"
   ]
  },
  {
   "cell_type": "code",
   "execution_count": 45,
   "metadata": {},
   "outputs": [
    {
     "name": "stdout",
     "output_type": "stream",
     "text": [
      "Counter({'a': 3, 'n': 2, 'b': 1})\n"
     ]
    }
   ],
   "source": [
    "# 14. Count character frequency\n",
    "from collections import Counter\n",
    "s = input(\"Enter a string: \")\n",
    "freq = Counter(s)\n",
    "print(freq)\n"
   ]
  },
  {
   "cell_type": "code",
   "execution_count": 18,
   "metadata": {},
   "outputs": [
    {
     "name": "stdout",
     "output_type": "stream",
     "text": [
      "Bill: 1630\n"
     ]
    }
   ],
   "source": [
    "# 15. Electricity Bill\n",
    "units = int(input(\"Enter units: \"))\n",
    "if units <= 100:\n",
    "    bill = units * 5\n",
    "elif units <= 200:\n",
    "    bill = (100*5) + (units-100)*7\n",
    "else:\n",
    "    bill = (100*5) + (100*7) + (units-200)*10\n",
    "print(\"Bill:\", bill)"
   ]
  },
  {
   "cell_type": "code",
   "execution_count": 19,
   "metadata": {},
   "outputs": [
    {
     "name": "stdout",
     "output_type": "stream",
     "text": [
      "['Anu', 'Bala', 'Raj', 'Sam']\n"
     ]
    }
   ],
   "source": [
    "# 16. Sort list of names\n",
    "names = [\"Raj\", \"Anu\", \"Sam\", \"Bala\"]\n",
    "names.sort()\n",
    "print(names)"
   ]
  },
  {
   "cell_type": "code",
   "execution_count": 23,
   "metadata": {},
   "outputs": [
    {
     "name": "stdout",
     "output_type": "stream",
     "text": [
      "1321\n"
     ]
    }
   ],
   "source": [
    "# 17. Reverse digits\n",
    "n = input()\n",
    "rev = int(str(n)[::-1])\n",
    "print(rev)"
   ]
  },
  {
   "cell_type": "code",
   "execution_count": 24,
   "metadata": {},
   "outputs": [
    {
     "name": "stdout",
     "output_type": "stream",
     "text": [
      "Positive: 3 Negative: 2 Zero: 2\n"
     ]
    }
   ],
   "source": [
    "# 18. Count +ve, -ve, zero\n",
    "nums = [1, -3, 0, 5, -7, 0, 9]\n",
    "pos = sum(1 for x in nums if x > 0)\n",
    "neg = sum(1 for x in nums if x < 0)\n",
    "zero = sum(1 for x in nums if x == 0)\n",
    "print(\"Positive:\", pos, \"Negative:\", neg, \"Zero:\", zero)"
   ]
  },
  {
   "cell_type": "code",
   "execution_count": 26,
   "metadata": {},
   "outputs": [
    {
     "name": "stdout",
     "output_type": "stream",
     "text": [
      "Access Granted\n"
     ]
    }
   ],
   "source": [
    "# 19. PIN with 3 attempts\n",
    "pin = input()\n",
    "for i in range(3):\n",
    "    guess = input(\"Enter PIN: \")\n",
    "    if guess == pin:\n",
    "        print(\"Access Granted\")\n",
    "        break\n",
    "else:\n",
    "    print(\"Account Locked\")"
   ]
  },
  {
   "cell_type": "code",
   "execution_count": 27,
   "metadata": {},
   "outputs": [
    {
     "name": "stdout",
     "output_type": "stream",
     "text": [
      "Division by zero not allowed\n"
     ]
    }
   ],
   "source": [
    "# 20. Division with Zero Handling\n",
    "a = int(input(\"Enter first number: \"))\n",
    "b = int(input(\"Enter second number: \"))\n",
    "try:\n",
    "    print(\"Result:\", a/b)\n",
    "except ZeroDivisionError:\n",
    "    print(\"Division by zero not allowed\")"
   ]
  },
  {
   "cell_type": "code",
   "execution_count": 30,
   "metadata": {},
   "outputs": [
    {
     "name": "stdout",
     "output_type": "stream",
     "text": [
      "Invalid input, enter numbers only\n"
     ]
    }
   ],
   "source": [
    "# 21. Handle ValueError & ZeroDivisionError\n",
    "try:\n",
    "    a = int(input(\"Enter number1: \"))\n",
    "    b = int(input(\"Enter number2: \"))\n",
    "    print(a/b)\n",
    "except ValueError:\n",
    "    print(\"Invalid input, enter numbers only\")\n",
    "except ZeroDivisionError:\n",
    "    print(\"Cannot divide by zero\")"
   ]
  },
  {
   "cell_type": "code",
   "execution_count": 32,
   "metadata": {},
   "outputs": [
    {
     "name": "stdout",
     "output_type": "stream",
     "text": [
      "Remaining Balance: 800\n"
     ]
    }
   ],
   "source": [
    "# 22. Withdrawal Exception\n",
    "balance = int(input())\n",
    "withdraw = int(input(\"Enter amount: \"))\n",
    "if withdraw > balance:\n",
    "    raise Exception(\"Insufficient Balance\")\n",
    "else:\n",
    "    balance -= withdraw\n",
    "    print(\"Remaining Balance:\", balance)"
   ]
  },
  {
   "cell_type": "code",
   "execution_count": 35,
   "metadata": {},
   "outputs": [
    {
     "name": "stdout",
     "output_type": "stream",
     "text": [
      "Total Bill: 11540\n",
      "Bill processing finished\n"
     ]
    }
   ],
   "source": [
    "# 23. Total Price with Exception Handling\n",
    "try:\n",
    "    units = int(input(\"Enter units: \"))\n",
    "    if units <= 100:\n",
    "        bill = units * 5\n",
    "    elif units <= 200:\n",
    "        bill = (100*5) + (units-100)*7\n",
    "    else:\n",
    "        bill = (100*5) + (100*7) + (units-200)*10\n",
    "    print(\"Total Bill:\", bill)\n",
    "except ValueError:\n",
    "    print(\"Invalid input, enter numbers only\")\n",
    "finally:\n",
    "    print(\"Bill processing finished\")"
   ]
  }
 ],
 "metadata": {
  "kernelspec": {
   "display_name": "Python 3",
   "language": "python",
   "name": "python3"
  },
  "language_info": {
   "codemirror_mode": {
    "name": "ipython",
    "version": 3
   },
   "file_extension": ".py",
   "mimetype": "text/x-python",
   "name": "python",
   "nbconvert_exporter": "python",
   "pygments_lexer": "ipython3",
   "version": "3.11.13"
  }
 },
 "nbformat": 4,
 "nbformat_minor": 2
}
