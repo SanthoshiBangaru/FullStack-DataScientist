{
 "cells": [
  {
   "cell_type": "code",
   "execution_count": null,
   "id": "40bd0adf",
   "metadata": {},
   "outputs": [],
   "source": [
    "#1.You are developing a small calculator app.\n",
    "# Write a program that takes two numbers from the user and swaps them without using a third variable, \n",
    "# so users can correct their input order.\n",
    "a = int(input())\n",
    "b = int(input())\n",
    "a = a+b\n",
    "b = a-b\n",
    "a = a-b\n",
    "print(a,b)"
   ]
  },
  {
   "cell_type": "code",
   "execution_count": null,
   "id": "03a7e78a",
   "metadata": {},
   "outputs": [
    {
     "name": "stdout",
     "output_type": "stream",
     "text": [
      "weiv rorrim\n"
     ]
    }
   ],
   "source": [
    "#A library wants to build a feature to display book titles backwards for a “mirror view” theme. \n",
    "# Write a program that reverses a given string without using slicing.x = \"mirror view\"\n",
    "l = len(x) \n",
    "reversed_str = \"\"\n",
    "\n",
    "for i in range(l-1, -1, -1):\n",
    "    reversed_str += x[i]\n",
    "\n",
    "print(reversed_str)"
   ]
  },
  {
   "cell_type": "code",
   "execution_count": null,
   "id": "ca4d88b7",
   "metadata": {},
   "outputs": [
    {
     "name": "stdout",
     "output_type": "stream",
     "text": [
      "153 is an Armstrong number.\n"
     ]
    }
   ],
   "source": [
    "# An ATM machine verifies special numbers before processing transactions. \n",
    "# Write a program to check if a number entered by the customer is an Armstrong number.\n",
    "def is_armstrong_number(num):\n",
    "    num1 = str(num)\n",
    "    digits = len(num1)\n",
    "    sumd = sum(int(digit) ** digits for digit in num1)\n",
    "    return sumd == num\n",
    "\n",
    "num = int(input(\"Enter a number: \"))\n",
    "\n",
    "if is_armstrong_number(num):\n",
    "    print(f\"{num} is an Armstrong number.\")\n",
    "else:\n",
    "    print(f\"{num} is not an Armstrong number.\")\n"
   ]
  },
  {
   "cell_type": "code",
   "execution_count": null,
   "id": "6e7e79e3",
   "metadata": {},
   "outputs": [
    {
     "name": "stdout",
     "output_type": "stream",
     "text": [
      "Vowels: 2\n",
      "Consonants: 3\n"
     ]
    }
   ],
   "source": [
    "# A language learning app wants to check how many vowels and consonants a user has typed in a practice sentence. \n",
    "# Write a program to count vowels and consonants in a given sentence.\n",
    "sentence = input()\n",
    "vowels = \"aeiouAEIOU\"\n",
    "vc = 0\n",
    "cc = 0\n",
    "    \n",
    "for char in sentence:\n",
    "    if char.isalpha(): \n",
    "        if char in vowels:\n",
    "            vc += 1\n",
    "        else:\n",
    "            cc += 1\n",
    "    \n",
    "print(f\"Vowels: {vc}\")\n",
    "print(f\"Consonants: {cc}\")\n"
   ]
  },
  {
   "cell_type": "code",
   "execution_count": 9,
   "id": "3654cbd3",
   "metadata": {},
   "outputs": [
    {
     "name": "stdout",
     "output_type": "stream",
     "text": [
      "56\n",
      "112\n",
      "168\n",
      "224\n",
      "280\n",
      "336\n",
      "392\n",
      "448\n",
      "504\n",
      "560\n"
     ]
    }
   ],
   "source": [
    "#5. In an e-learning platform, when a student inputs a number, \n",
    "# the system should generate its multiplication table (up to 10) as practice material. Write a program to do this.\n",
    "\n",
    "n = int(input())\n",
    "for i in range(1, 11):\n",
    "    print(n*i)"
   ]
  },
  {
   "cell_type": "code",
   "execution_count": null,
   "id": "861a9a6f",
   "metadata": {},
   "outputs": [
    {
     "name": "stdout",
     "output_type": "stream",
     "text": [
      "2024 is a leap year.\n"
     ]
    }
   ],
   "source": [
    "#A travel company checks leap years to calculate special discounts on leap day. Write a program to check if a given year is a leap year.\n",
    "year = int(input(\"Enter a year: \"))\n",
    "if (year % 4 == 0 and year % 100 != 0) or (year % 400 == 0):\n",
    "    print(f\"{year} is a leap year.\")\n",
    "else:\n",
    "    print(f\"{year} is not a leap year.\")"
   ]
  },
  {
   "cell_type": "code",
   "execution_count": null,
   "id": "82342eec",
   "metadata": {},
   "outputs": [
    {
     "name": "stdout",
     "output_type": "stream",
     "text": [
      "The maximum value is: 45\n"
     ]
    }
   ],
   "source": [
    "#A gaming app wants to determine the highest score out of 5 attempts. Write a program to take 5 numbers as input and print the largest.\n",
    "n = [10, 3, 45, 32, 20]\n",
    "max_num = n[0]\n",
    "for i in range(1, 5): \n",
    "    if n[i] > max_num:\n",
    "        max_num = n[i] \n",
    "print(f\"The maximum value is: {max_num}\")\n"
   ]
  },
  {
   "cell_type": "code",
   "execution_count": null,
   "id": "4879611a",
   "metadata": {},
   "outputs": [
    {
     "name": "stdout",
     "output_type": "stream",
     "text": [
      "Is a palindrome.\n"
     ]
    }
   ],
   "source": [
    "#A healthcare app stores patient IDs and checks if they are palindromes for easy recall.\n",
    "#  Write a program that checks if a given string ID is a palindrome.\n",
    "def is_palindrome(patient_id):\n",
    "    patient_id = patient_id.replace(\" \", \"\").lower()\n",
    "    return patient_id == patient_id[::-1]\n",
    "\n",
    "patient_id = input(\"Enter patient ID: \")\n",
    "if is_palindrome(patient_id):\n",
    "    print(\"Is a palindrome.\")\n",
    "else:\n",
    "    print(\"Is not a palindrome.\")\n"
   ]
  },
  {
   "cell_type": "code",
   "execution_count": null,
   "id": "a76ae576",
   "metadata": {},
   "outputs": [
    {
     "name": "stdout",
     "output_type": "stream",
     "text": [
      "The number of ways to arrange 4 workers is: 24\n"
     ]
    }
   ],
   "source": [
    "#A factory wants to calculate the number of ways workers can be arranged in a line. Write a program to find the factorial of a number.\n",
    "def factorial(n):\n",
    "    result = 1\n",
    "    for i in range(1, n + 1):\n",
    "        result *= i\n",
    "    return result\n",
    "\n",
    "n = int(input(\"Enter the number\"))\n",
    "print(f\"The number of ways to arrange {n} workers is: {factorial(n)}\")"
   ]
  },
  {
   "cell_type": "code",
   "execution_count": null,
   "id": "6be43303",
   "metadata": {},
   "outputs": [
    {
     "name": "stdout",
     "output_type": "stream",
     "text": [
      "15 30 45 60 75 90 "
     ]
    }
   ],
   "source": [
    "# A company gives rewards for numbers divisible by both 3 and 5. \n",
    "# Write a program to print all numbers between 1 and 100 that qualify.\n",
    "for num in range(1, 101):\n",
    "        if num % 15 == 0:\n",
    "            print(num, end=\" \")\n",
    "\n"
   ]
  }
 ],
 "metadata": {
  "kernelspec": {
   "display_name": "venv",
   "language": "python",
   "name": "python3"
  },
  "language_info": {
   "codemirror_mode": {
    "name": "ipython",
    "version": 3
   },
   "file_extension": ".py",
   "mimetype": "text/x-python",
   "name": "python",
   "nbconvert_exporter": "python",
   "pygments_lexer": "ipython3",
   "version": "3.11.0"
  }
 },
 "nbformat": 4,
 "nbformat_minor": 5
}
