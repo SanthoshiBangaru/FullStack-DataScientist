{
 "cells": [
  {
   "cell_type": "code",
   "execution_count": 1,
   "metadata": {},
   "outputs": [
    {
     "name": "stdout",
     "output_type": "stream",
     "text": [
      "23 is prime\n"
     ]
    }
   ],
   "source": [
    "#11. A security system checks whether the entered code is prime for extra authentication. \n",
    "#Write a program to check if a given number is prime.\n",
    "\n",
    "num = int(input(\"Enter a number: \"))\n",
    "if num > 1:\n",
    "    for i in range(2, int(num**0.5) + 1):\n",
    "        if num % i == 0:\n",
    "            print(num, \"is not prime\")\n",
    "            break\n",
    "    else:\n",
    "        print(num, \"is prime\")\n",
    "else:\n",
    "    print(num, \"is not prime\")"
   ]
  },
  {
   "cell_type": "code",
   "execution_count": 4,
   "metadata": {},
   "outputs": [
    {
     "name": "stdout",
     "output_type": "stream",
     "text": [
      "Second largest number is: 32\n"
     ]
    }
   ],
   "source": [
    "#12. In a class test, a teacher wants to know the second highest score among students. \n",
    "#Write a program to find the second largest number in a list.\n",
    "numbers = list(map(int, input(\"Enter numbers separated by space: \").split()))\n",
    "unique_nums = list(set(numbers))\n",
    "unique_nums.sort()\n",
    "if len(unique_nums) < 2:\n",
    "    print(\"No second largest number\")\n",
    "else:\n",
    "    print(\"Second largest number is:\", unique_nums[-2])"
   ]
  },
  {
   "cell_type": "code",
   "execution_count": 5,
   "metadata": {},
   "outputs": [
    {
     "name": "stdout",
     "output_type": "stream",
     "text": [
      "Sum of even numbers from 1 to 50: 650\n"
     ]
    }
   ],
   "source": [
    "#13. A fitness app counts only even-numbered steps to calculate “balanced walking.” \n",
    "#Write a program to find the sum of even numbers from 1 to 50.\n",
    "total = sum(i for i in range(1, 51) if i % 2 == 0)\n",
    "print(\"Sum of even numbers from 1 to 50:\", total)"
   ]
  },
  {
   "cell_type": "code",
   "execution_count": 6,
   "metadata": {},
   "outputs": [
    {
     "name": "stdout",
     "output_type": "stream",
     "text": [
      "Uppercase letters: 3\n",
      "Lowercase letters: 6\n"
     ]
    }
   ],
   "source": [
    "#14. A typing speed test wants to know how many uppercase and lowercase letters a user typed. \n",
    "#Write a program to count uppercase and lowercase characters in a string.\n",
    "s = input(\"Enter a string: \")\n",
    "upper = sum(1 for c in s if c.isupper())\n",
    "lower = sum(1 for c in s if c.islower())\n",
    "print(\"Uppercase letters:\", upper)\n",
    "print(\"Lowercase letters:\", lower)"
   ]
  },
  {
   "cell_type": "code",
   "execution_count": 4,
   "metadata": {},
   "outputs": [
    {
     "name": "stdout",
     "output_type": "stream",
     "text": [
      "0 1 1 2 3 5 "
     ]
    }
   ],
   "source": [
    "#15. A financial tool simulates Fibonacci-like growth in savings. \n",
    "#Write a program to generate the Fibonacci sequence up to n terms\n",
    "n = int(input(\"Enter number of terms: \"))\n",
    "a, b = 0, 1\n",
    "for _ in range(n):\n",
    "    print(a, end=\" \")\n",
    "    a, b = b, a + b"
   ]
  },
  {
   "cell_type": "code",
   "execution_count": 5,
   "metadata": {},
   "outputs": [
    {
     "name": "stdout",
     "output_type": "stream",
     "text": [
      "The words are not anagrams\n"
     ]
    }
   ],
   "source": [
    "#16. A word puzzle game checks if two words are anagrams (same letters but shuffled). \n",
    "#Write a program to check if two strings are anagrams.\n",
    "s1 = input(\"Enter first word: \").lower()\n",
    "s2 = input(\"Enter second word: \").lower()\n",
    "if sorted(s1) == sorted(s2):\n",
    "    print(\"The words are anagrams\")\n",
    "else:\n",
    "    print(\"The words are not anagrams\")"
   ]
  },
  {
   "cell_type": "code",
   "execution_count": 16,
   "metadata": {},
   "outputs": [
    {
     "name": "stdout",
     "output_type": "stream",
     "text": [
      "6 is a perfect number\n"
     ]
    }
   ],
   "source": [
    "#17. A science experiment needs to verify whether a number is perfect (sum of divisors = number). Write a program to check if a number is a perfect number.\n",
    "num = int(input(\"Enter a number: \"))\n",
    "divisors = [i for i in range(1, num) if num % i == 0]\n",
    "if sum(divisors) == num:\n",
    "    print(num, \"is a perfect number\")\n",
    "else:\n",
    "    print(num, \"is not a perfect number\")"
   ]
  },
  {
   "cell_type": "code",
   "execution_count": 18,
   "metadata": {},
   "outputs": [
    {
     "name": "stdout",
     "output_type": "stream",
     "text": [
      "Percentage: 68.6\n",
      "Grade: C\n"
     ]
    }
   ],
   "source": [
    "# 18. A school report system calculates percentage and assigns grades: ≥90 → A ≥75 → B ≥50 → C <50 → Fail Write a program that takes 5 subject marks, calculates percentage, and prints the grade.\n",
    "\n",
    "marks = [int(input(f\"Enter mark {i+1}: \")) for i in range(5)]\n",
    "percentage = sum(marks) / 5\n",
    "print(\"Percentage:\", percentage)\n",
    "\n",
    "if percentage >= 90:\n",
    "    grade = \"A\"\n",
    "elif percentage >= 75:\n",
    "    grade = \"B\"\n",
    "elif percentage >= 50:\n",
    "    grade = \"C\"\n",
    "else:\n",
    "    grade = \"Fail\"\n",
    "\n",
    "print(\"Grade:\", grade)"
   ]
  },
  {
   "cell_type": "code",
   "execution_count": 19,
   "metadata": {},
   "outputs": [
    {
     "name": "stdout",
     "output_type": "stream",
     "text": [
      "2 3 5 7 11 13 17 19 23 29 31 37 41 43 47 53 59 61 67 71 73 79 83 89 97 "
     ]
    }
   ],
   "source": [
    "# 19. A mathematics quiz app generates all prime numbers between 1 and 100. Write a program to print all prime numbers in this range.\n",
    "for num in range(2, 101):\n",
    "    for i in range(2, int(num**0.5) + 1):\n",
    "        if num % i == 0:\n",
    "            break\n",
    "    else:\n",
    "        print(num, end=\" \")"
   ]
  },
  {
   "cell_type": "code",
   "execution_count": 20,
   "metadata": {},
   "outputs": [
    {
     "name": "stdout",
     "output_type": "stream",
     "text": [
      "Word count: 2\n"
     ]
    }
   ],
   "source": [
    "#20. An online editor counts words in an article but doesn’t allow using split(). Write a program to count the number of words in a sentence.\n",
    "s = input(\"Enter a sentence: \").strip()\n",
    "count = 1 if s else 0\n",
    "for c in s:\n",
    "    if c == \" \":\n",
    "        count += 1\n",
    "print(\"Word count:\", count)"
   ]
  },
  {
   "cell_type": "code",
   "execution_count": 21,
   "metadata": {},
   "outputs": [
    {
     "name": "stdout",
     "output_type": "stream",
     "text": [
      "Final ticket price: 160.0\n"
     ]
    }
   ],
   "source": [
    "#21. Movie Ticket Discount A cinema gives a 20% discount if the customer is a student and 10% discount if the customer is a senior citizen (age ≥ 60).\n",
    "# Write a program that takes ticket price, age, and student status (yes/no) as input and prints the final ticket price.\n",
    "price = float(input(\"Enter ticket price: \"))\n",
    "age = int(input(\"Enter age: \"))\n",
    "student = input(\"Are you a student? (yes/no): \").lower()\n",
    "\n",
    "if student == \"yes\":\n",
    "    price *= 0.8\n",
    "elif age >= 60:\n",
    "    price *= 0.9\n",
    "\n",
    "print(\"Final ticket price:\", price)"
   ]
  },
  {
   "cell_type": "code",
   "execution_count": 22,
   "metadata": {},
   "outputs": [
    {
     "name": "stdout",
     "output_type": "stream",
     "text": [
      "Final amount payable: 550.0\n"
     ]
    }
   ],
   "source": [
    "# 22. Shopping Cart Free Delivery An e-commerce website gives free delivery if the total cart value is more than ₹500. Otherwise, a delivery charge of ₹50 is applied.\n",
    "# Write a program that takes the cart total as input and prints the final amount payable.\n",
    "cart = float(input(\"Enter cart total: \"))\n",
    "if cart > 500:\n",
    "    final = cart\n",
    "else:\n",
    "    final = cart + 50\n",
    "print(\"Final amount payable:\", final)"
   ]
  },
  {
   "cell_type": "code",
   "execution_count": 23,
   "metadata": {},
   "outputs": [
    {
     "name": "stdout",
     "output_type": "stream",
     "text": [
      "Grade: A\n"
     ]
    }
   ],
   "source": [
    "# 23. Marks Grading System A college follows this grading system: 90–100: A 75–89: B 50–74: C Below 50: Fail\n",
    "# Write a program that takes marks as input and prints the grade.\n",
    "marks = int(input(\"Enter marks: \"))\n",
    "if marks >= 90:\n",
    "    grade = \"A\"\n",
    "elif marks >= 75:\n",
    "    grade = \"B\"\n",
    "elif marks >= 50:\n",
    "    grade = \"C\"\n",
    "else:\n",
    "    grade = \"Fail\"\n",
    "print(\"Grade:\", grade)"
   ]
  },
  {
   "cell_type": "code",
   "execution_count": 24,
   "metadata": {},
   "outputs": [
    {
     "name": "stdout",
     "output_type": "stream",
     "text": [
      "Tip amount: 50.0\n"
     ]
    }
   ],
   "source": [
    "# 24. Restaurant Tip Calculator\n",
    "bill = float(input(\"Enter bill amount: \"))\n",
    "if bill < 500:\n",
    "    tip = bill * 0.05\n",
    "elif bill <= 1000:\n",
    "    tip = bill * 0.10\n",
    "else:\n",
    "    tip = bill * 0.15\n",
    "print(\"Tip amount:\", tip)"
   ]
  },
  {
   "cell_type": "code",
   "execution_count": 25,
   "metadata": {},
   "outputs": [
    {
     "name": "stdout",
     "output_type": "stream",
     "text": [
      "Cheapest option costs: 2500\n"
     ]
    }
   ],
   "source": [
    "# 25. Gym Membership Plan\n",
    "months = int(input(\"Enter membership period (months): \"))\n",
    "\n",
    "cost1 = months * 500\n",
    "cost2 = (months // 6) * 2700 + (months % 6) * 500\n",
    "cost3 = (months // 12) * 5000 + (months % 12) * 500\n",
    "\n",
    "cheapest = min(cost1, cost2, cost3)\n",
    "print(\"Cheapest option costs:\", cheapest)"
   ]
  },
  {
   "cell_type": "code",
   "execution_count": null,
   "metadata": {},
   "outputs": [],
   "source": [
    "# 26. Exam Eligibility\n",
    "total = int(input(\"Enter total classes: \"))\n",
    "attended = int(input(\"Enter classes attended: \"))\n",
    "attendance = (attended / total) * 100\n",
    "\n",
    "print(\"Attendance:\", attendance, \"%\")\n",
    "if attendance >= 75:\n",
    "    print(\"Eligible for exam\")\n",
    "else:\n",
    "    print(\"Not eligible for exam\")"
   ]
  },
  {
   "cell_type": "code",
   "execution_count": 26,
   "metadata": {},
   "outputs": [
    {
     "name": "stdout",
     "output_type": "stream",
     "text": [
      "Transaction successful\n"
     ]
    }
   ],
   "source": [
    "# 27. ATM Withdrawal\n",
    "amount = int(input(\"Enter withdrawal amount: \"))\n",
    "if amount % 100 == 0:\n",
    "    print(\"Transaction successful\")\n",
    "else:\n",
    "    print(\"Transaction failed\")"
   ]
  },
  {
   "cell_type": "code",
   "execution_count": 27,
   "metadata": {},
   "outputs": [
    {
     "name": "stdout",
     "output_type": "stream",
     "text": [
      "Too hot, stay indoors!\n"
     ]
    }
   ],
   "source": [
    "# 28. Weather Suggestion\n",
    "temp = int(input(\"Enter temperature: \"))\n",
    "if temp > 35:\n",
    "    print(\"Too hot, stay indoors!\")\n",
    "elif 20 <= temp <= 35:\n",
    "    print(\"Nice weather, go out!\")\n",
    "else:\n",
    "    print(\"It’s cold, wear warm clothes!\")"
   ]
  },
  {
   "cell_type": "code",
   "execution_count": 28,
   "metadata": {},
   "outputs": [
    {
     "name": "stdout",
     "output_type": "stream",
     "text": [
      "Fine amount: 10\n"
     ]
    }
   ],
   "source": [
    "# 29. Library Fine\n",
    "days = int(input(\"Enter number of late days: \"))\n",
    "if 1 <= days <= 5:\n",
    "    fine = 10\n",
    "elif 6 <= days <= 10:\n",
    "    fine = 50\n",
    "elif days > 10:\n",
    "    fine = 100\n",
    "else:\n",
    "    fine = 0\n",
    "print(\"Fine amount:\", fine)"
   ]
  },
  {
   "cell_type": "code",
   "execution_count": 29,
   "metadata": {},
   "outputs": [
    {
     "name": "stdout",
     "output_type": "stream",
     "text": [
      "Bill amount: 2700\n"
     ]
    }
   ],
   "source": [
    "# 30. Electricity Bill Calculator\n",
    "units = int(input(\"Enter units consumed: \"))\n",
    "\n",
    "if units <= 100:\n",
    "    bill = units * 5\n",
    "elif units <= 200:\n",
    "    bill = 100 * 5 + (units - 100) * 7\n",
    "else:\n",
    "    bill = 100 * 5 + 100 * 7 + (units - 200) * 10\n",
    "\n",
    "print(\"Bill amount:\", bill)"
   ]
  }
 ],
 "metadata": {
  "kernelspec": {
   "display_name": "Python 3",
   "language": "python",
   "name": "python3"
  },
  "language_info": {
   "codemirror_mode": {
    "name": "ipython",
    "version": 3
   },
   "file_extension": ".py",
   "mimetype": "text/x-python",
   "name": "python",
   "nbconvert_exporter": "python",
   "pygments_lexer": "ipython3",
   "version": "3.11.13"
  }
 },
 "nbformat": 4,
 "nbformat_minor": 2
}
