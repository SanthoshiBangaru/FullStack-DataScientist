{
 "cells": [
  {
   "cell_type": "code",
   "execution_count": 5,
   "metadata": {},
   "outputs": [
    {
     "name": "stdout",
     "output_type": "stream",
     "text": [
      "Total Bill = (100*2) + (250*3) + (30*2) = 200 + 750 + 60 = 1010\n"
     ]
    }
   ],
   "source": [
    "# Prices and Quantities\n",
    "item1_price = int(input(\"Enter item1 price:\"))\n",
    "item1_qty = int(input(\"Enter number:\"))\n",
    "item2_price = int(input(\"Enter item2 price:\"))\n",
    "item2_qty = int(input(\"Enter number:\"))\n",
    "item3_price = int(input(\"Enter item3 price:\"))\n",
    "item3_qty = int(input(\"Enter number:\"))\n",
    "\n",
    "cost1 = item1_price * item1_qty\n",
    "cost2 = item2_price * item2_qty\n",
    "cost3 = item3_price * item3_qty\n",
    "total = cost1 + cost2 + cost3\n",
    "  \n",
    "print(f\"Total Bill = ({item1_price}*{item1_qty}) + ({item2_price}*{item2_qty}) + ({item3_price}*{item3_qty}) = {cost1} + {cost2} + {cost3} = {total}\")"
   ]
  },
  {
   "cell_type": "code",
   "execution_count": 7,
   "metadata": {},
   "outputs": [
    {
     "name": "stdout",
     "output_type": "stream",
     "text": [
      "Addition = 19\n",
      "Subtraction = 11\n",
      "Multiplication = 60\n",
      "Division = 3.75\n",
      "Modulus = 3\n"
     ]
    }
   ],
   "source": [
    "#2. Build a calculator that takes two numbers and performs addition, subtraction, multiplication, division, and modulus.\n",
    "n = int(input(\"Enter first number:\"))\n",
    "m = int(input(\"Enter second number:\"))\n",
    "\n",
    "print(f\"Addition = {n+m}\")\n",
    "print(f\"Subtraction = {n-m}\")\n",
    "print(f\"Multiplication = {n*m}\")\n",
    "if n!= 0 & m!=0:\n",
    "    print(f\"Division = {n/m}\")\n",
    "else:\n",
    "    print(\"not possible\")\n",
    "\n",
    "print(f\"Modulus = {n%m}\")"
   ]
  },
  {
   "cell_type": "code",
   "execution_count": 9,
   "metadata": {},
   "outputs": [
    {
     "name": "stdout",
     "output_type": "stream",
     "text": [
      "Grade: A (Excellent)\n"
     ]
    }
   ],
   "source": [
    "#3. A teacher wants a grading system where marks are input, and the grade is displayed.\n",
    "#Rules: >=90 → A+, 80–89 → A, 70–79 → B, 60–69 → C, <60 → Fail\n",
    "\n",
    "marks = int(input(f\"Enter marks: \"))\n",
    "\n",
    "if marks >= 90:\n",
    "    grade = \"A+ (Outstanding)\"\n",
    "elif marks >80 & marks<=89 :\n",
    "    grade = \"A (Excellent)\"\n",
    "elif marks >70 & marks<=79 :\n",
    "    grade = \"B (Good)\"\n",
    "elif marks >60 & marks<=69 :\n",
    "    grade = \"C (Ok-ish)\"\n",
    "else:\n",
    "    grade = \"Fail\"\n",
    "\n",
    "print(\"Grade:\", grade)"
   ]
  },
  {
   "cell_type": "code",
   "execution_count": 17,
   "metadata": {},
   "outputs": [
    {
     "name": "stdout",
     "output_type": "stream",
     "text": [
      "[90, 87, 77, 89, 65]\n",
      "Highest score = 90\n",
      "Lowest score = 65\n",
      "Average score = 81.6\n"
     ]
    }
   ],
   "source": [
    "#4. Student Marks List Scenario: Store marks of 5 students in a list. Display the highest, lowest, and average marks.\n",
    "\n",
    "marks = [int(input(f\"Enter mark {i+1}: \")) for i in range(5)]\n",
    "\n",
    "maxm = max(marks)\n",
    "minm = min(marks)\n",
    "avg = sum(marks)/len(marks)\n",
    "\n",
    "print(marks)\n",
    "print(f\"Highest score = {maxm}\")\n",
    "print(f\"Lowest score = {minm}\")\n",
    "print(f\"Average score = {avg}\")"
   ]
  },
  {
   "cell_type": "code",
   "execution_count": 16,
   "metadata": {},
   "outputs": [
    {
     "name": "stdout",
     "output_type": "stream",
     "text": [
      "\n",
      "Phonebook = {'1': 39482938402, '2': 3489348203, '3': 1234567890}\n",
      "Phone Number of 3: 1234567890\n"
     ]
    }
   ],
   "source": [
    "phonebook = {}\n",
    "\n",
    "for i in range(3):\n",
    "    name = input(f\"Enter name {i+1}: \")\n",
    "    number = int(input(f\"Enter number for {name}: \"))\n",
    "    phonebook[name] = number\n",
    "\n",
    "print(\"\\nPhonebook =\", phonebook)\n",
    "search_name = input(\"\\nSearch Name: \")\n",
    "\n",
    "if search_name in phonebook:\n",
    "    print(f\"Phone Number of {search_name}: {phonebook[search_name]}\")\n",
    "else:\n",
    "    print(\"Name not found in phonebook\")"
   ]
  },
  {
   "cell_type": "code",
   "execution_count": 2,
   "metadata": {},
   "outputs": [
    {
     "name": "stdout",
     "output_type": "stream",
     "text": [
      "Total Words: 2\n",
      "Total Characters = 11\n",
      "Total Vowels = 10\n"
     ]
    }
   ],
   "source": [
    "s = input(\"Enter a sentense:\")\n",
    "s1 = s.strip()\n",
    "count = 1 if s1 else 0\n",
    "for c in s1:\n",
    "    if c == \" \":\n",
    "        count += 1\n",
    "print(\"Total Words:\", count)\n",
    "vc=0\n",
    "cc = len(s)\n",
    "print(f\"Total Characters = {cc}\")\n",
    "vowels = \"aeiouAEIOU\"\n",
    "for c in vowels:\n",
    "    vc+=1\n",
    "print(f\"Total Vowels = {vc}\")"
   ]
  },
  {
   "cell_type": "code",
   "execution_count": 5,
   "metadata": {},
   "outputs": [
    {
     "name": "stdout",
     "output_type": "stream",
     "text": [
      "\n",
      "Simple Interest = 1500.00\n",
      "Total Amount = 26500.00\n"
     ]
    }
   ],
   "source": [
    "# Program to calculate Simple Interest and Compound Interest\n",
    "principal = float(input(\"Principal: \"))\n",
    "rate = float(input(\"Rate: \"))\n",
    "time = float(input(\"Time: \"))\n",
    "interest_type = input(\"Interest Type: \").strip().lower()\n",
    "\n",
    "if interest_type == \"simple\":\n",
    "    si = (principal * rate * time) / 100\n",
    "    total_amount = principal + si\n",
    "    print(f\"\\nSimple Interest = {si:.2f}\")\n",
    "    print(f\"Total Amount = {total_amount:.2f}\")\n",
    "\n",
    "elif interest_type == \"compound\":\n",
    "    ci = principal * ((1 + rate/100) ** time - 1)\n",
    "    total_amount = principal + ci\n",
    "    print(f\"\\nCompound Interest = {ci:.2f}\")\n",
    "    print(f\"Total Amount = {total_amount:.2f}\")\n",
    "\n",
    "else:\n",
    "    print(\"\\nInvalid\")"
   ]
  },
  {
   "cell_type": "code",
   "execution_count": 6,
   "metadata": {},
   "outputs": [
    {
     "name": "stdout",
     "output_type": "stream",
     "text": [
      "\n",
      "Encrypted Message: KHOOR\n"
     ]
    }
   ],
   "source": [
    "# Caesar Cipher Encryption Program\n",
    "message = input(\"Enter Message: \").upper()\n",
    "shift = int(input(\"Enter Shift Key: \"))\n",
    "\n",
    "encrypted_text = \"\"\n",
    "\n",
    "for char in message:\n",
    "    if char.isalpha():\n",
    "        encrypted_char = chr(((ord(char) - ord('A') + shift) % 26) + ord('A'))\n",
    "        encrypted_text += encrypted_char\n",
    "    else:\n",
    "        encrypted_text += char\n",
    "\n",
    "print(f\"\\nEncrypted Message: {encrypted_text}\")"
   ]
  },
  {
   "cell_type": "code",
   "execution_count": 8,
   "metadata": {},
   "outputs": [
    {
     "name": "stdout",
     "output_type": "stream",
     "text": [
      "\n",
      "PIN Verified.\n",
      "Withdrawal Successful. Remaining Balance = 4600.00\n"
     ]
    }
   ],
   "source": [
    "# ATM Program with PIN Verification\n",
    "correct_pin = 1234\n",
    "balance = 5000\n",
    "\n",
    "entered_pin = int(input(\"Enter PIN: \"))\n",
    "\n",
    "if entered_pin == correct_pin:\n",
    "    print(\"\\nPIN Verified.\")\n",
    "    withdraw_amount = float(input(\"Enter Withdrawal Amount: \"))\n",
    "\n",
    "    if withdraw_amount <= balance:\n",
    "        balance -= withdraw_amount\n",
    "        print(f\"Withdrawal Successful. Remaining Balance = {balance:.2f}\")\n",
    "    else:\n",
    "        print(\"Insufficient Balance.\")\n",
    "else:\n",
    "    print(\"Invalid PIN.\")"
   ]
  },
  {
   "cell_type": "code",
   "execution_count": 9,
   "metadata": {},
   "outputs": [
    {
     "name": "stdout",
     "output_type": "stream",
     "text": [
      "Current Books: ['Python Basics', 'AI Fundamentals', 'Machine Learning']\n",
      "Total Books: 3\n"
     ]
    }
   ],
   "source": [
    "# Library Management Program\n",
    "books = [\"Python Basics\", \"Data Science\", \"AI Fundamentals\"]\n",
    "\n",
    "add_book = \"Machine Learning\"\n",
    "books.append(add_book)\n",
    "remove_book = \"Data Science\"\n",
    "\n",
    "if remove_book in books:\n",
    "    books.remove(remove_book)\n",
    "print(\"Current Books:\", books)\n",
    "print(\"Total Books:\", len(books))"
   ]
  }
 ],
 "metadata": {
  "kernelspec": {
   "display_name": "Python 3",
   "language": "python",
   "name": "python3"
  },
  "language_info": {
   "codemirror_mode": {
    "name": "ipython",
    "version": 3
   },
   "file_extension": ".py",
   "mimetype": "text/x-python",
   "name": "python",
   "nbconvert_exporter": "python",
   "pygments_lexer": "ipython3",
   "version": "3.11.13"
  }
 },
 "nbformat": 4,
 "nbformat_minor": 2
}
